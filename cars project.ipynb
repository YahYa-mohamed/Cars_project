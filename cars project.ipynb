{
 "cells": [
  {
   "cell_type": "markdown",
   "metadata": {},
   "source": [
    "# **car progect!**"
   ]
  },
  {
   "cell_type": "markdown",
   "metadata": {},
   "source": [
    "**befor you run the program, you need to check the files you will find it in `backup` folder, are those in `cars_showroom` folder**"
   ]
  },
  {
   "cell_type": "markdown",
   "metadata": {},
   "source": [
    "<img src='car.jpg'>"
   ]
  },
  {
   "cell_type": "code",
   "execution_count": 1,
   "metadata": {},
   "outputs": [],
   "source": [
    "import os\n",
    "import random\n",
    "import time"
   ]
  },
  {
   "cell_type": "code",
   "execution_count": 2,
   "metadata": {},
   "outputs": [],
   "source": [
    "def display_all_cars(cars_of_showroom):\n",
    "    cars=os.listdir(cars_of_showroom)\n",
    "    return cars"
   ]
  },
  {
   "cell_type": "code",
   "execution_count": 3,
   "metadata": {},
   "outputs": [
    {
     "data": {
      "text/plain": [
       "['00101_1OYDIuN1UHD_0CI0lM_300x300 - Copy.jpg',\n",
       " '00101_1OYDIuN1UHD_0CI0lM_300x300.jpg',\n",
       " '00101_9ZGbcYE5eGZ_0cU09G_300x300 - Copy.jpg',\n",
       " '00101_9ZGbcYE5eGZ_0cU09G_300x300.jpg',\n",
       " '00101_irYwpBnpSI5_0CI0t2_300x300 - Copy.jpg',\n",
       " '00101_irYwpBnpSI5_0CI0t2_300x300.jpg',\n",
       " '00303_8sJ36WVlBYz_0cU09G_300x300 - Copy.jpg',\n",
       " '00303_8sJ36WVlBYz_0cU09G_300x300.jpg',\n",
       " '00707_1GvReKqPZZk_0uY0hq_300x300 - Copy.jpg',\n",
       " '00707_1GvReKqPZZk_0uY0hq_300x300.jpg',\n",
       " '00909_hXgceIFIyGz_0cU09G_300x300 - Copy.jpg',\n",
       " '00909_hXgceIFIyGz_0cU09G_300x300.jpg',\n",
       " '00a0a_ag9VqY7HjwM_0cU09G_300x300.jpg',\n",
       " '00C0C_kL9zxMC2vfn_0ak07K_300x300.jpg',\n",
       " '00D0D_6s4YfniQDcJ_0ak07K_300x300.jpg',\n",
       " '00D0D_hYLiZTzuBLY_0cU09G_300x300 - Copy.jpg',\n",
       " '00D0D_hYLiZTzuBLY_0cU09G_300x300.jpg',\n",
       " '00f0f_2wq9SrpA8oL_300x300 - Copy.jpg',\n",
       " '00f0f_2wq9SrpA8oL_300x300.jpg',\n",
       " '00F0F_51H6ptfzqYb_0uY0hq_300x300 - Copy.jpg',\n",
       " '00F0F_51H6ptfzqYb_0uY0hq_300x300.jpg',\n",
       " '00f0f_gNHkWdXYNUp_0ak07K_300x300 - Copy.jpg',\n",
       " '00f0f_gNHkWdXYNUp_0ak07K_300x300.jpg',\n",
       " '00g0g_c5tvExAxuHk_0CI0t2_300x300 - Copy.jpg',\n",
       " '00g0g_c5tvExAxuHk_0CI0t2_300x300.jpg',\n",
       " '00I0I_4Cj4qougTHD_0ak07K_300x300 - Copy.jpg',\n",
       " '00I0I_4Cj4qougTHD_0ak07K_300x300.jpg',\n",
       " '00I0I_4oyn6VyW1Wf_0ak07K_300x300 - Copy.jpg',\n",
       " '00I0I_4oyn6VyW1Wf_0ak07K_300x300.jpg',\n",
       " '00I0I_g0urVu7SyjE_08a0ew_300x300 - Copy.jpg',\n",
       " '00I0I_g0urVu7SyjE_08a0ew_300x300.jpg',\n",
       " '00I0I_gcGd3nlkd3h_0ak07K_600x450 - Copy.jpg',\n",
       " '00I0I_gcGd3nlkd3h_0ak07K_600x450.jpg',\n",
       " '00I0I_hvMAJD7QWtC_0ak07K_300x300 - Copy.jpg',\n",
       " '00I0I_hvMAJD7QWtC_0ak07K_300x300.jpg',\n",
       " '00j0j_hR3t2x1MeM1_0ak07K_600x450 - Copy.jpg',\n",
       " '00j0j_hR3t2x1MeM1_0ak07K_600x450.jpg',\n",
       " '00k0k_cC6TAVWhoxG_0ak07K_300x300 - Copy.jpg',\n",
       " '00k0k_cC6TAVWhoxG_0ak07K_300x300.jpg',\n",
       " '00k0k_ckp8nqyWDh9_300x300 - Copy.jpg',\n",
       " '00k0k_ckp8nqyWDh9_300x300.jpg',\n",
       " '00l0l_50rnhAeHIJV_0ak07K_300x300 - Copy.jpg',\n",
       " '00l0l_50rnhAeHIJV_0ak07K_300x300.jpg',\n",
       " '00L0L_6XAoqIPnJEr_0ak07K_300x300 - Copy.jpg',\n",
       " '00L0L_6XAoqIPnJEr_0ak07K_300x300.jpg',\n",
       " '00M0M_3ao3QuqRsaC_0ak07K_300x300 - Copy.jpg',\n",
       " '00M0M_3ao3QuqRsaC_0ak07K_300x300.jpg',\n",
       " '00m0m_3dUyEg8OGY9_300x300.jpg',\n",
       " '00M0M_5byBkkQfy4R_0ak07K_300x300.jpg',\n",
       " '00m0m_5JeWVtH8ZQQ_0CI0t2_300x300.jpg',\n",
       " '00m0m_cVE2umv5SLD_0ak07K_600x450.jpg',\n",
       " '00M0M_ikvC9zd4LZu_300x300.jpg',\n",
       " '00o0o_3yN1OcW2xvY_0CI0t2_300x300.jpg',\n",
       " '00O0O_gf6jKMRg9HA_0ak07K_300x300.jpg',\n",
       " '00O0O_j1rXTW6SIy7_0ak07K_300x300.jpg',\n",
       " '00P0P_2m4hjl7jjGz_0ak07K_600x450.jpg',\n",
       " '00q0q_7zzQPsopsX9_0uY0hq_300x300 - Copy.jpg',\n",
       " '00q0q_7zzQPsopsX9_0uY0hq_300x300.jpg',\n",
       " '00Q0Q_e2DftDR5fUs_0ak07K_600x450 - Copy.jpg',\n",
       " '00Q0Q_e2DftDR5fUs_0ak07K_600x450.jpg',\n",
       " '00S0S_3cBpXQerdi_0CI0t2_300x300 - Copy.jpg',\n",
       " '00S0S_3cBpXQerdi_0CI0t2_300x300.jpg',\n",
       " '00S0S_6wWysUZCSgs_0jm0pO_300x300 - Copy.jpg',\n",
       " '00S0S_6wWysUZCSgs_0jm0pO_300x300.jpg',\n",
       " '00S0S_fKHJG0EfG0k_0cU09G_600x450 - Copy.jpg',\n",
       " '00S0S_fKHJG0EfG0k_0cU09G_600x450.jpg',\n",
       " '00t0t_5WDBkOqrISX_0ak07K_600x450 - Copy.jpg',\n",
       " '00t0t_5WDBkOqrISX_0ak07K_600x450.jpg',\n",
       " '00T0T_7fGJyoK9F2N_0ak07K_300x300 - Copy.jpg',\n",
       " '00T0T_7fGJyoK9F2N_0ak07K_300x300.jpg',\n",
       " '00t0t_fZ68ESzGgqt_0pO0jm_300x300 - Copy.jpg',\n",
       " '00t0t_fZ68ESzGgqt_0pO0jm_300x300.jpg',\n",
       " '00t0t_kOtzXK7ZqxH_0bC0fu_300x300 - Copy.jpg',\n",
       " '00t0t_kOtzXK7ZqxH_0bC0fu_300x300.jpg',\n",
       " '00U0U_lVd3yBrYzvh_0ak07K_300x300 - Copy.jpg',\n",
       " '00U0U_lVd3yBrYzvh_0ak07K_300x300.jpg',\n",
       " '00V0V_5q7XcJHy68f_0ak07K_300x300 - Copy.jpg',\n",
       " '00V0V_5q7XcJHy68f_0ak07K_300x300.jpg',\n",
       " '00V0V_kdDsyoed6fk_300x300 - Copy.jpg',\n",
       " '00V0V_kdDsyoed6fk_300x300.jpg',\n",
       " '00w0w_3PH7webFYbc_300x300 - Copy.jpg',\n",
       " '00w0w_3PH7webFYbc_300x300.jpg',\n",
       " '00W0W_bOKEBWVtWdI_0cU09G_300x300 - Copy.jpg',\n",
       " '00W0W_bOKEBWVtWdI_0cU09G_300x300.jpg',\n",
       " '00W0W_bOKEBWVtWdI_0cU09G_600x450 - Copy.jpg',\n",
       " '00W0W_bOKEBWVtWdI_0cU09G_600x450.jpg',\n",
       " '00X0X_4r3a6LK8G6o_0bC0fu_300x300 - Copy.jpg',\n",
       " '00X0X_4r3a6LK8G6o_0bC0fu_300x300.jpg',\n",
       " '00x0x_9xpFbCIrIl9_0cU09G_300x300.jpg',\n",
       " '00x0x_aChZJgNqQTR_0ak07K_300x300.jpg',\n",
       " '00X0X_cQptjb13q4o_0ak07K_300x300.jpg',\n",
       " '00x0x_fZ2C1LWX4yX_0ak07K_300x300.jpg',\n",
       " '00x0x_i2sGR8gKv78_300x300.jpg',\n",
       " '00X0X_j36ZoSMheZC_0cU09G_300x300.jpg',\n",
       " '00Y0Y_1Ri4Q4EflgM_0cU09G_300x300.jpg',\n",
       " '00y0y_a4lu167aanZ_0cU09G_300x300.jpg',\n",
       " '00Y0Y_fmcsLU8NkDs_0ak07K_300x300 - Copy.jpg',\n",
       " '00Y0Y_fmcsLU8NkDs_0ak07K_300x300.jpg',\n",
       " '00Y0Y_g5UNq7sFRzt_0cU09G_300x300 - Copy.jpg',\n",
       " '00Y0Y_g5UNq7sFRzt_0cU09G_300x300.jpg']"
      ]
     },
     "execution_count": 3,
     "metadata": {},
     "output_type": "execute_result"
    }
   ],
   "source": [
    "all_cars=display_all_cars('cars_showroom')\n",
    "all_cars"
   ]
  },
  {
   "cell_type": "code",
   "execution_count": 4,
   "metadata": {},
   "outputs": [
    {
     "data": {
      "text/plain": [
       "100"
      ]
     },
     "execution_count": 4,
     "metadata": {},
     "output_type": "execute_result"
    }
   ],
   "source": [
    "len(all_cars)"
   ]
  },
  {
   "cell_type": "markdown",
   "metadata": {},
   "source": [
    "# **The cars that will work this week**"
   ]
  },
  {
   "cell_type": "code",
   "execution_count": 5,
   "metadata": {},
   "outputs": [],
   "source": [
    "def cars_of_work(cars_of_showroom):\n",
    "    half_of_cars=len(cars_of_showroom)//2\n",
    "    for j in range(half_of_cars):\n",
    "        all_cars=display_all_cars('cars_showroom')\n",
    "        car_work=random.choice(all_cars)\n",
    "        os.remove(f'cars_showroom/{car_work}')\n",
    "        time.sleep(1)\n",
    "        print(f'This car will going to work: {car_work}')\n",
    "    print('All cars are went out to work')\n",
    "        "
   ]
  },
  {
   "cell_type": "code",
   "execution_count": 6,
   "metadata": {},
   "outputs": [
    {
     "name": "stdout",
     "output_type": "stream",
     "text": [
      "This car will going to work: 00w0w_3PH7webFYbc_300x300 - Copy.jpg\n",
      "This car will going to work: 00C0C_kL9zxMC2vfn_0ak07K_300x300.jpg\n",
      "This car will going to work: 00m0m_cVE2umv5SLD_0ak07K_600x450.jpg\n",
      "This car will going to work: 00x0x_i2sGR8gKv78_300x300.jpg\n",
      "This car will going to work: 00a0a_ag9VqY7HjwM_0cU09G_300x300.jpg\n",
      "This car will going to work: 00V0V_5q7XcJHy68f_0ak07K_300x300 - Copy.jpg\n",
      "This car will going to work: 00y0y_a4lu167aanZ_0cU09G_300x300.jpg\n",
      "This car will going to work: 00I0I_g0urVu7SyjE_08a0ew_300x300 - Copy.jpg\n",
      "This car will going to work: 00D0D_hYLiZTzuBLY_0cU09G_300x300.jpg\n",
      "This car will going to work: 00I0I_hvMAJD7QWtC_0ak07K_300x300.jpg\n",
      "This car will going to work: 00k0k_cC6TAVWhoxG_0ak07K_300x300.jpg\n",
      "This car will going to work: 00I0I_4Cj4qougTHD_0ak07K_300x300 - Copy.jpg\n",
      "This car will going to work: 00M0M_ikvC9zd4LZu_300x300.jpg\n",
      "This car will going to work: 00V0V_kdDsyoed6fk_300x300.jpg\n",
      "This car will going to work: 00X0X_4r3a6LK8G6o_0bC0fu_300x300 - Copy.jpg\n",
      "This car will going to work: 00m0m_3dUyEg8OGY9_300x300.jpg\n",
      "This car will going to work: 00g0g_c5tvExAxuHk_0CI0t2_300x300.jpg\n",
      "This car will going to work: 00g0g_c5tvExAxuHk_0CI0t2_300x300 - Copy.jpg\n",
      "This car will going to work: 00I0I_4oyn6VyW1Wf_0ak07K_300x300.jpg\n",
      "This car will going to work: 00D0D_hYLiZTzuBLY_0cU09G_300x300 - Copy.jpg\n",
      "This car will going to work: 00U0U_lVd3yBrYzvh_0ak07K_300x300.jpg\n",
      "This car will going to work: 00t0t_5WDBkOqrISX_0ak07K_600x450 - Copy.jpg\n",
      "This car will going to work: 00101_9ZGbcYE5eGZ_0cU09G_300x300 - Copy.jpg\n",
      "This car will going to work: 00t0t_fZ68ESzGgqt_0pO0jm_300x300.jpg\n",
      "This car will going to work: 00I0I_4Cj4qougTHD_0ak07K_300x300.jpg\n",
      "This car will going to work: 00V0V_5q7XcJHy68f_0ak07K_300x300.jpg\n",
      "This car will going to work: 00I0I_4oyn6VyW1Wf_0ak07K_300x300 - Copy.jpg\n",
      "This car will going to work: 00x0x_9xpFbCIrIl9_0cU09G_300x300.jpg\n",
      "This car will going to work: 00U0U_lVd3yBrYzvh_0ak07K_300x300 - Copy.jpg\n",
      "This car will going to work: 00909_hXgceIFIyGz_0cU09G_300x300 - Copy.jpg\n",
      "This car will going to work: 00303_8sJ36WVlBYz_0cU09G_300x300 - Copy.jpg\n",
      "This car will going to work: 00o0o_3yN1OcW2xvY_0CI0t2_300x300.jpg\n",
      "This car will going to work: 00l0l_50rnhAeHIJV_0ak07K_300x300 - Copy.jpg\n",
      "This car will going to work: 00q0q_7zzQPsopsX9_0uY0hq_300x300 - Copy.jpg\n",
      "This car will going to work: 00P0P_2m4hjl7jjGz_0ak07K_600x450.jpg\n",
      "This car will going to work: 00Q0Q_e2DftDR5fUs_0ak07K_600x450 - Copy.jpg\n",
      "This car will going to work: 00S0S_fKHJG0EfG0k_0cU09G_600x450 - Copy.jpg\n",
      "This car will going to work: 00k0k_ckp8nqyWDh9_300x300 - Copy.jpg\n",
      "This car will going to work: 00101_irYwpBnpSI5_0CI0t2_300x300.jpg\n",
      "This car will going to work: 00Y0Y_g5UNq7sFRzt_0cU09G_300x300.jpg\n",
      "This car will going to work: 00t0t_kOtzXK7ZqxH_0bC0fu_300x300.jpg\n",
      "This car will going to work: 00l0l_50rnhAeHIJV_0ak07K_300x300.jpg\n",
      "This car will going to work: 00I0I_hvMAJD7QWtC_0ak07K_300x300 - Copy.jpg\n",
      "This car will going to work: 00Y0Y_g5UNq7sFRzt_0cU09G_300x300 - Copy.jpg\n",
      "This car will going to work: 00q0q_7zzQPsopsX9_0uY0hq_300x300.jpg\n",
      "This car will going to work: 00T0T_7fGJyoK9F2N_0ak07K_300x300 - Copy.jpg\n",
      "This car will going to work: 00k0k_cC6TAVWhoxG_0ak07K_300x300 - Copy.jpg\n",
      "This car will going to work: 00M0M_3ao3QuqRsaC_0ak07K_300x300 - Copy.jpg\n",
      "This car will going to work: 00909_hXgceIFIyGz_0cU09G_300x300.jpg\n",
      "This car will going to work: 00L0L_6XAoqIPnJEr_0ak07K_300x300 - Copy.jpg\n",
      "All cars are went out to work\n"
     ]
    }
   ],
   "source": [
    "cars_of_work(all_cars)"
   ]
  },
  {
   "cell_type": "markdown",
   "metadata": {},
   "source": [
    "# **Finished the project!**"
   ]
  },
  {
   "cell_type": "code",
   "execution_count": null,
   "metadata": {},
   "outputs": [],
   "source": []
  }
 ],
 "metadata": {
  "kernelspec": {
   "display_name": "Python 3",
   "language": "python",
   "name": "python3"
  },
  "language_info": {
   "codemirror_mode": {
    "name": "ipython",
    "version": 3
   },
   "file_extension": ".py",
   "mimetype": "text/x-python",
   "name": "python",
   "nbconvert_exporter": "python",
   "pygments_lexer": "ipython3",
   "version": "3.7.6"
  }
 },
 "nbformat": 4,
 "nbformat_minor": 4
}
